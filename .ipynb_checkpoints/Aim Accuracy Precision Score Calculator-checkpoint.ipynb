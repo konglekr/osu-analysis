{
 "cells": [
  {
   "cell_type": "code",
   "execution_count": 1,
   "id": "35b9c551",
   "metadata": {},
   "outputs": [],
   "source": [
    "import base64\n",
    "import lzma\n",
    "import struct\n",
    "from datetime import datetime, timezone, timedelta\n",
    "import hashlib\n",
    "from ossapi import *\n",
    "import requests\n",
    "import numpy as np\n",
    "import matplotlib.pyplot as plt\n",
    "\n",
    "api = OssapiV2(19003, 'TVMi13ZOzWLvCo1CUMTg4Bs49r0ytI1PZ0INDr0d')"
   ]
  },
  {
   "cell_type": "code",
   "execution_count": 2,
   "id": "d1a22ce7",
   "metadata": {},
   "outputs": [],
   "source": [
    "def get_string_length(binarystream, offset):\n",
    "    result = 0\n",
    "    shift = 0\n",
    "    while True:\n",
    "        byte = binarystream[offset]\n",
    "        offset += 1\n",
    "        result = result |((byte & 0b01111111) << shift)\n",
    "        if (byte & 0b10000000) == 0x00:\n",
    "            break\n",
    "        shift += 7\n",
    "    return result, offset\n",
    "\n",
    "def unpack_once(specifier, replay_data, offset):\n",
    "    specifier = f\"<{specifier}\"\n",
    "    unpacked = struct.unpack_from(specifier, replay_data, offset)\n",
    "    offset += struct.calcsize(specifier)\n",
    "    return unpacked[0], offset\n",
    "\n",
    "def unpack_string(replay_data, offset):\n",
    "    if replay_data[offset] == 0x00:\n",
    "        offset += 1\n",
    "    else:\n",
    "        offset += 1\n",
    "        string_length, offset = get_string_length(replay_data, offset)\n",
    "        offset_end = offset + string_length\n",
    "        string = replay_data[offset:offset_end].decode(\"utf-8\")\n",
    "        offset = offset_end\n",
    "        return string, offset\n",
    "\n",
    "def unpack_timestamp(replay_data, offset):\n",
    "    ticks, offset = unpack_once(\"q\", replay_data, offset)\n",
    "    timestamp = datetime.min + timedelta(microseconds=ticks/10)\n",
    "    timestamp = timestamp.replace(tzinfo=timezone.utc)\n",
    "    return timestamp, offset\n",
    "\n",
    "def unpack_play_data(replay_data, offset):\n",
    "    replay_length, offset = unpack_once(\"i\", replay_data, offset)\n",
    "    offset_end = offset + replay_length\n",
    "    data = replay_data[offset:offset_end]\n",
    "    data = lzma.decompress(data, format=lzma.FORMAT_AUTO)\n",
    "    data = data.decode(\"ascii\")\n",
    "    (replay_data, rng_seed) = parse_replay_data(data)\n",
    "    offset = offset_end\n",
    "    return (replay_data, rng_seed), offset\n",
    "\n",
    "def parse_replay_data(replay_data_str):\n",
    "    replay_data_str = replay_data_str.rstrip(\",\")\n",
    "    events = [event.split('|') for event in replay_data_str.split(',')]\n",
    "\n",
    "    rng_seed = None\n",
    "    play_data = []\n",
    "    for event in events:\n",
    "        time_delta = int(event[0])\n",
    "        x = event[1]\n",
    "        y = event[2]\n",
    "        keys = int(event[3])\n",
    "\n",
    "        if time_delta == -12345 and event == events[-1]:\n",
    "            rng_seed = keys\n",
    "            continue\n",
    "\n",
    "        event = [time_delta, float(x), float(y), keys]\n",
    "\n",
    "        play_data.append(event)\n",
    "\n",
    "    return (play_data, rng_seed)\n",
    "\n",
    "def unpack_life_bar(replay_data, offset):\n",
    "    life_bar, offset = unpack_string(replay_data, offset)\n",
    "    if not life_bar:\n",
    "        return 0, offset\n",
    "\n",
    "    life_bar = life_bar[:-1]\n",
    "    states = [state.split(\"|\") for state in life_bar.split(\",\")]\n",
    "\n",
    "    return [LifeBarState(int(s[0]), float(s[1])) for s in states], offset\n",
    "\n",
    "def unpack_replay_id(data, offset):\n",
    "    try:\n",
    "        replay_id = unpack_once(\"q\", data, offset)\n",
    "    except struct.error:\n",
    "        replay_id = unpack_once(\"l\", data, offset)\n",
    "    return replay_id\n",
    "\n",
    "FUNCTION_FACTORY = {\n",
    "    \"string\": unpack_string,\n",
    "    \"life_bar\": unpack_life_bar,\n",
    "    \"timestamp\": unpack_timestamp,\n",
    "    \"replay_data\": unpack_play_data,\n",
    "    \"replay_id\": unpack_replay_id\n",
    "}\n",
    "\n",
    "def replay_file_to(file):\n",
    "    with open(file, \"rb\") as osr_file:\n",
    "        data = osr_file.read()\n",
    "    offset = 0\n",
    "    \n",
    "    unpack_formats = {\n",
    "        \"mode\": \"b\",\n",
    "        \"version\": \"i\",\n",
    "        \"beatmap\": \"string\",\n",
    "        \"username\": \"string\",\n",
    "        \"replay_hash\": \"string\",\n",
    "        \"count_300\": \"h\",\n",
    "        \"count_100\": \"h\",\n",
    "        \"count_50\": \"h\",\n",
    "        \"count_geki\": \"h\",\n",
    "        \"count_katu\": \"h\",\n",
    "        \"count_miss\": \"h\",\n",
    "        \"total_score\": \"i\",\n",
    "        \"max_combo\": \"h\",\n",
    "        \"is_perfect\": \"?\",\n",
    "        \"mods\": \"i\",\n",
    "        \"life_bar_graph\": \"life_bar\",\n",
    "        \"timestamp\": \"timestamp\",\n",
    "        \"replay_data\": \"replay_data\",\n",
    "        \"replay_id\": \"replay_id\",\n",
    "    }\n",
    "    \n",
    "    results_dict = dict()\n",
    "    \n",
    "    for info in unpack_formats:\n",
    "        if unpack_formats[info] in FUNCTION_FACTORY:\n",
    "            value, offset = FUNCTION_FACTORY[unpack_formats[info]](data, offset)\n",
    "        else:\n",
    "            value, offset = unpack_once(unpack_formats[info], data, offset)\n",
    "        results_dict[info] = value\n",
    "    \n",
    "    return results_dict\n",
    "    "
   ]
  },
  {
   "cell_type": "code",
   "execution_count": 3,
   "id": "c9777fe2",
   "metadata": {},
   "outputs": [],
   "source": [
    "replay = replay_file_to(\"replay-osu_1956730_4267557800.osr\")"
   ]
  },
  {
   "cell_type": "code",
   "execution_count": 4,
   "id": "986094c9",
   "metadata": {},
   "outputs": [],
   "source": [
    "beatmap_id = api.beatmap(checksum=replay['beatmap']).id"
   ]
  },
  {
   "cell_type": "code",
   "execution_count": 7,
   "id": "21d21626",
   "metadata": {},
   "outputs": [],
   "source": [
    "raw_beatmap = requests.session().get(f\"https://kitsu.moe/api/osu/{beatmap_id}\").content"
   ]
  },
  {
   "cell_type": "code",
   "execution_count": 8,
   "id": "ac678403",
   "metadata": {},
   "outputs": [],
   "source": [
    "hit_objects = raw_beatmap.decode(\"utf-8\") .split('[HitObjects]')[1]"
   ]
  },
  {
   "cell_type": "code",
   "execution_count": 9,
   "id": "1be38e02",
   "metadata": {},
   "outputs": [],
   "source": [
    "hitobject_info = np.array([hitobject.split(',')[0:3] for hitobject in hit_objects.split(\"\\r\\n\")[1:-1]]).astype(int)"
   ]
  },
  {
   "cell_type": "code",
   "execution_count": 10,
   "id": "8d9f06bc",
   "metadata": {},
   "outputs": [],
   "source": [
    "replay_info = replay['replay_data'][0]"
   ]
  },
  {
   "cell_type": "code",
   "execution_count": 11,
   "id": "4824ac98",
   "metadata": {},
   "outputs": [],
   "source": [
    "replay_array = np.array(replay_info)"
   ]
  },
  {
   "cell_type": "code",
   "execution_count": 12,
   "id": "9cb429b7",
   "metadata": {},
   "outputs": [],
   "source": [
    "replay_array = np.hstack((replay_array, np.cumsum(replay_array[:, 0]).reshape(-1, 1)))"
   ]
  },
  {
   "cell_type": "code",
   "execution_count": 13,
   "id": "116e9689",
   "metadata": {},
   "outputs": [],
   "source": [
    "current = 0\n",
    "unique_replay_array = np.empty((0, 5))\n",
    "for replay_index in replay_array:\n",
    "    current_press = replay_index[3]\n",
    "    if current_press != current:\n",
    "        current = current_press\n",
    "        if current_press != 0:\n",
    "            unique_replay_array = np.vstack((unique_replay_array, replay_index))\n",
    "            \n",
    "unique_replay_array = unique_replay_array[:, [1, 2, 4]]"
   ]
  },
  {
   "cell_type": "code",
   "execution_count": 14,
   "id": "d4cba3f0",
   "metadata": {},
   "outputs": [],
   "source": [
    "cs = api.beatmap(checksum=replay['beatmap']).cs\n",
    "od = api.beatmap(checksum=replay['beatmap']).accuracy"
   ]
  },
  {
   "cell_type": "code",
   "execution_count": 15,
   "id": "e414d19a",
   "metadata": {},
   "outputs": [],
   "source": [
    "def is_in_circle(hit_object, cursor, cs):\n",
    "    return ((hit_object[0] - cursor[0]) ** 2 + (hit_object[1] - cursor[1]) ** 2) ** (1 / 2) <= (54.4 - 4.48 * cs)"
   ]
  },
  {
   "cell_type": "code",
   "execution_count": 16,
   "id": "ae928bd8",
   "metadata": {},
   "outputs": [],
   "source": [
    "def distance(hit_object, cursor):\n",
    "    return ((hit_object[0] - cursor[0]) ** 2 + (hit_object[1] - cursor[1]) ** 2) ** (1 / 2)"
   ]
  },
  {
   "cell_type": "code",
   "execution_count": 64,
   "id": "58f2a758",
   "metadata": {},
   "outputs": [
    {
     "ename": "SyntaxError",
     "evalue": "'[' was never closed (3446387817.py, line 2)",
     "output_type": "error",
     "traceback": [
      "\u001b[1;36m  Cell \u001b[1;32mIn [64], line 2\u001b[1;36m\u001b[0m\n\u001b[1;33m    return abs(10 * (od - 19.95)) >= abs(hit_object[2] - cursor[2\u001b[0m\n\u001b[1;37m                                                               ^\u001b[0m\n\u001b[1;31mSyntaxError\u001b[0m\u001b[1;31m:\u001b[0m '[' was never closed\n"
     ]
    }
   ],
   "source": [
    "def is_in_hit_window(od, hit_object, cursor, speed = 1):\n",
    "    return abs(10 * (od - 19.95)) >= abs(hit_object[2] - cursor[2])\n",
    "                                                                \n",
    "def before_hit_window(od, hit_object, cursor, speed = 1):\n",
    "    return not is_in_hit_window(od, hit_object, cursor, speed = 1) and hit_object[2] > cursor[2]\n",
    "\n",
    "def after_hit_window(od, hit_object, cursor, speed = 1):\n",
    "    return not is_in_hit_window(od, hit_object, cursor, speed = 1) and hit_object[2] < cursor[2]\n"
   ]
  },
  {
   "cell_type": "code",
   "execution_count": 39,
   "id": "86561338",
   "metadata": {},
   "outputs": [],
   "source": [
    "def matches(hit_objects, cursors):\n",
    "    matched_pairs = []\n",
    "    missed_pairs = []\n",
    "    object_idx, cursor_idx = 0, 0\n",
    "    while object_idx < len(hit_objects) and cursor_idx < len(cursors):\n",
    "        if is_in_circle(hit_objects[object_idx], cursors[cursor_idx], cs) and is_in_hit_window(od, hit_objects[object_idx], cursors[cursor_idx]):\n",
    "            matched_pairs.append([hit_objects[object_idx][0], hit_objects[object_idx][1], cursors[cursor_idx][0], cursors[cursor_idx][1]])\n",
    "            object_idx += 1\n",
    "            cursor_idx += 1\n",
    "        elif is_in_circle(hit_objects[object_idx], cursors[cursor_idx], cs):\n",
    "            object_idx += 1\n",
    "            cursor_idx += 1\n",
    "        elif is_in_hit_window(od, hit_objects[object_idx], cursors[cursor_idx]) and distance(hit_objects[object_idx], cursors[cursor_idx]) < 100:\n",
    "            print(object_idx, cursor_idx)\n",
    "            missed_pairs.append([hit_objects[object_idx][0], hit_objects[object_idx][1], cursors[cursor_idx][0], cursors[cursor_idx][1]])\n",
    "            object_idx += 1\n",
    "            cursor_idx += 1\n",
    "        else:\n",
    "            cursor_idx += 1\n",
    "            \n",
    "    return matched_pairs, missed_pairs"
   ]
  },
  {
   "cell_type": "code",
   "execution_count": 40,
   "id": "a9a52044",
   "metadata": {},
   "outputs": [
    {
     "name": "stdout",
     "output_type": "stream",
     "text": [
      "5 8\n",
      "6 9\n",
      "7 11\n",
      "8 13\n",
      "9 15\n",
      "401 424\n",
      "402 425\n",
      "403 426\n",
      "404 428\n",
      "405 430\n",
      "406 432\n",
      "511 543\n"
     ]
    }
   ],
   "source": [
    "matched_pairs, missed_pairs = matches(hitobject_info, unique_replay_array)"
   ]
  },
  {
   "cell_type": "code",
   "execution_count": 61,
   "id": "7540bcd8",
   "metadata": {},
   "outputs": [
    {
     "data": {
      "text/plain": [
       "array([[ 385,  344, 3499,  380,  341, 3505],\n",
       "       [ 467,  250, 4007,  467,  241, 4018],\n",
       "       [ 456,   89, 4515,  461,  102, 4503],\n",
       "       [ 417,   80, 4578,  445,   84, 4562],\n",
       "       [ 378,   89, 4642,  407,   95, 4625],\n",
       "       [ 348,  115, 4705,  394,  103, 4646],\n",
       "       [ 333,  151, 4770,  372,  126, 4702],\n",
       "       [ 317,  187, 4833,  366,  136, 4721],\n",
       "       [ 287,  213, 4897,  349,  157, 4769],\n",
       "       [ 248,  222, 4960,  341,  167, 4790]])"
      ]
     },
     "execution_count": 61,
     "metadata": {},
     "output_type": "execute_result"
    }
   ],
   "source": [
    "np.append(hitobject_info[0:10], unique_replay_array[3:13], axis = 1).astype(int)"
   ]
  },
  {
   "cell_type": "code",
   "execution_count": 41,
   "id": "403d9073",
   "metadata": {},
   "outputs": [],
   "source": [
    "pair_coords = [(pair[2] - pair[0], pair[3] - pair[1]) for pair in matched_pairs]\n",
    "missed_coords = [(pair[2] - pair[0], pair[3] - pair[1]) for pair in missed_pairs]"
   ]
  },
  {
   "cell_type": "code",
   "execution_count": 42,
   "id": "47c45747",
   "metadata": {},
   "outputs": [
    {
     "data": {
      "image/png": "[encoded data removed]",
      "text/plain": [
       "<Figure size 640x480 with 1 Axes>"
      ]
     },
     "metadata": {},
     "output_type": "display_data"
    }
   ],
   "source": [
    "centroid = [sum(x)/len(x) for x in zip(*pair_coords+missed_coords)]\n",
    "\n",
    "plt.scatter(*zip(*pair_coords), c = 'lightgreen', s = 5)\n",
    "plt.scatter(*zip(*missed_coords), c = 'red', s = 5)\n",
    "\n",
    "plt.scatter(centroid[0], centroid[1], c = 'black')\n",
    "plt.axis('equal')\n",
    "theta = np.linspace(0, 2*np.pi, 100)\n",
    "r = (54.4 - 4.48 * cs)\n",
    "x = r*np.cos(theta)\n",
    "y = r*np.sin(theta)\n",
    "plt.plot(x,y)\n",
    "plt.show()"
   ]
  },
  {
   "cell_type": "code",
   "execution_count": 43,
   "id": "26cf2cef",
   "metadata": {},
   "outputs": [
    {
     "data": {
      "text/plain": [
       "588"
      ]
     },
     "execution_count": 43,
     "metadata": {},
     "output_type": "execute_result"
    }
   ],
   "source": [
    "len(matched_pairs) + len(missed_pairs)"
   ]
  },
  {
   "cell_type": "code",
   "execution_count": 44,
   "id": "76d917cc",
   "metadata": {},
   "outputs": [
    {
     "data": {
      "text/plain": [
       "589"
      ]
     },
     "execution_count": 44,
     "metadata": {},
     "output_type": "execute_result"
    }
   ],
   "source": [
    "len(hitobject_info)"
   ]
  },
  {
   "cell_type": "code",
   "execution_count": null,
   "id": "353f4e9f",
   "metadata": {},
   "outputs": [],
   "source": []
  }
 ],
 "metadata": {
  "kernelspec": {
   "display_name": "Python 3 (ipykernel)",
   "language": "python",
   "name": "python3"
  },
  "language_info": {
   "codemirror_mode": {
    "name": "ipython",
    "version": 3
   },
   "file_extension": ".py",
   "mimetype": "text/x-python",
   "name": "python",
   "nbconvert_exporter": "python",
   "pygments_lexer": "ipython3",
   "version": "3.11.0"
  }
 },
 "nbformat": 4,
 "nbformat_minor": 5
}
